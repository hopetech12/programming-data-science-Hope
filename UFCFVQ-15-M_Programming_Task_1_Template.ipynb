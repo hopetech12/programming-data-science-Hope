{
 "cells": [
  {
   "cell_type": "markdown",
   "metadata": {
    "deletable": false
   },
   "source": [
    "# UFCFVQ-15-M Programming for Data Science (Autumn 2023)\n"
   ]
  },
  {
   "cell_type": "markdown",
   "metadata": {},
   "source": [
    "## Student Id:"
   ]
  },
  {
   "cell_type": "markdown",
   "metadata": {
    "deletable": false
   },
   "source": [
    "# Programming Task 1"
   ]
  },
  {
   "cell_type": "markdown",
   "metadata": {
    "deletable": false
   },
   "source": [
    "### Requirement FR1 - Develop a function to read a single column from a CSV file"
   ]
  },
  {
   "cell_type": "code",
   "execution_count": 1,
   "metadata": {
    "deletable": false
   },
   "outputs": [],
   "source": [
    "import csv"
   ]
  },
  {
   "cell_type": "code",
   "execution_count": 2,
   "metadata": {},
   "outputs": [
    {
     "name": "stdout",
     "output_type": "stream",
     "text": [
      "Column name: cancer\n"
     ]
    },
    {
     "data": {
      "text/plain": [
       "('cancer',\n",
       " ['70',\n",
       "  '70',\n",
       "  '68',\n",
       "  '53',\n",
       "  '75',\n",
       "  '69',\n",
       "  '70',\n",
       "  '63',\n",
       "  '73',\n",
       "  '66',\n",
       "  '70',\n",
       "  '63',\n",
       "  '68',\n",
       "  '69',\n",
       "  '72',\n",
       "  '65',\n",
       "  '69',\n",
       "  '61',\n",
       "  '68',\n",
       "  '67',\n",
       "  '68',\n",
       "  '65',\n",
       "  '65',\n",
       "  '68',\n",
       "  '64',\n",
       "  '63',\n",
       "  '68',\n",
       "  '69',\n",
       "  '61',\n",
       "  '72',\n",
       "  '63',\n",
       "  '75',\n",
       "  '67',\n",
       "  '72',\n",
       "  '63',\n",
       "  '69',\n",
       "  '73',\n",
       "  '70',\n",
       "  '69',\n",
       "  '73',\n",
       "  '69',\n",
       "  '73',\n",
       "  '65',\n",
       "  '70',\n",
       "  '64',\n",
       "  '64',\n",
       "  '63',\n",
       "  '68',\n",
       "  '70',\n",
       "  '70',\n",
       "  '70',\n",
       "  '62',\n",
       "  '81',\n",
       "  '69',\n",
       "  '72',\n",
       "  '69',\n",
       "  '66',\n",
       "  '67',\n",
       "  '70',\n",
       "  '84',\n",
       "  '65',\n",
       "  '65',\n",
       "  '63',\n",
       "  '81',\n",
       "  '65',\n",
       "  '67',\n",
       "  '66',\n",
       "  '67',\n",
       "  '61',\n",
       "  '76',\n",
       "  '66',\n",
       "  '70',\n",
       "  '67',\n",
       "  '70',\n",
       "  '73',\n",
       "  '63',\n",
       "  '62',\n",
       "  '82',\n",
       "  '75',\n",
       "  '65',\n",
       "  '74',\n",
       "  '68',\n",
       "  '81',\n",
       "  '76',\n",
       "  '57',\n",
       "  '65',\n",
       "  '62',\n",
       "  '64',\n",
       "  '65',\n",
       "  '63',\n",
       "  '69',\n",
       "  '65',\n",
       "  '100',\n",
       "  '65',\n",
       "  '62',\n",
       "  '66',\n",
       "  '64',\n",
       "  '61',\n",
       "  '64',\n",
       "  '60',\n",
       "  '55',\n",
       "  '64',\n",
       "  '57',\n",
       "  '63',\n",
       "  '59',\n",
       "  '66',\n",
       "  '68',\n",
       "  '70',\n",
       "  '70',\n",
       "  '51',\n",
       "  '58',\n",
       "  '57',\n",
       "  '55',\n",
       "  '68',\n",
       "  '67',\n",
       "  '72',\n",
       "  '67',\n",
       "  '58',\n",
       "  '61',\n",
       "  '60',\n",
       "  '58',\n",
       "  '67',\n",
       "  '68',\n",
       "  '66',\n",
       "  '62',\n",
       "  '59',\n",
       "  '66',\n",
       "  '64',\n",
       "  '60',\n",
       "  '63',\n",
       "  '65',\n",
       "  '55',\n",
       "  '56',\n",
       "  '63',\n",
       "  '59',\n",
       "  '60',\n",
       "  '65',\n",
       "  '73',\n",
       "  '65',\n",
       "  '65',\n",
       "  '61',\n",
       "  '64',\n",
       "  '65',\n",
       "  '63',\n",
       "  '70',\n",
       "  '59',\n",
       "  '67',\n",
       "  '68',\n",
       "  '66',\n",
       "  '64',\n",
       "  '64',\n",
       "  '65',\n",
       "  '68',\n",
       "  '57',\n",
       "  '68',\n",
       "  '65',\n",
       "  '64',\n",
       "  '66',\n",
       "  '72',\n",
       "  '68',\n",
       "  '67',\n",
       "  '64',\n",
       "  '67',\n",
       "  '57',\n",
       "  '59',\n",
       "  '52',\n",
       "  '63',\n",
       "  '58',\n",
       "  '47',\n",
       "  '58',\n",
       "  '61',\n",
       "  '64',\n",
       "  '62',\n",
       "  '60',\n",
       "  '65',\n",
       "  '58',\n",
       "  '57',\n",
       "  '64',\n",
       "  '49',\n",
       "  '59',\n",
       "  '59',\n",
       "  '59',\n",
       "  '67',\n",
       "  '59',\n",
       "  '55',\n",
       "  '57',\n",
       "  '57',\n",
       "  '65',\n",
       "  '61',\n",
       "  '58',\n",
       "  '59',\n",
       "  '61',\n",
       "  '61',\n",
       "  '59',\n",
       "  '64',\n",
       "  '56',\n",
       "  '58',\n",
       "  '59',\n",
       "  '64',\n",
       "  '57',\n",
       "  '56',\n",
       "  '60',\n",
       "  '61',\n",
       "  '57',\n",
       "  '59',\n",
       "  '53',\n",
       "  '59',\n",
       "  '56',\n",
       "  '58',\n",
       "  '63'])"
      ]
     },
     "execution_count": 2,
     "metadata": {},
     "output_type": "execute_result"
    }
   ],
   "source": [
    "def read_single_csv_column(filename, column_name):\n",
    "    try:\n",
    "        with open(filename, 'r', encoding='utf-8-sig', newline='') as file:\n",
    "            reader = list(csv.reader(file))\n",
    "            [column for column in reader[0] if column == column_name]\n",
    "            next(iter(reader)) # Skip the header row\n",
    "            column_index = reader[0].index(column_name)\n",
    "            column = [row[column_index] for row in iter(reader) if row != reader[0]]\n",
    "\n",
    "            print(f'Column name: {column_name}')\n",
    "\n",
    "            return column_name, column\n",
    "    \n",
    "    except ValueError:\n",
    "        print(\"ValueError Occurred: You have probably inputed a wrong column name\")\n",
    "    \n",
    "    except:\n",
    "        print (\"An unknown error occurred\")\n",
    "\n",
    "# Test the function\n",
    "read_single_csv_column('task1.csv', 'cancer')"
   ]
  },
  {
   "cell_type": "markdown",
   "metadata": {
    "deletable": false
   },
   "source": [
    "### Requirement FR2 - Develop a function to read CSV data from a file into memory"
   ]
  },
  {
   "cell_type": "code",
   "execution_count": null,
   "metadata": {
    "deletable": false
   },
   "outputs": [],
   "source": [
    "# replace with your code"
   ]
  },
  {
   "cell_type": "markdown",
   "metadata": {
    "deletable": false
   },
   "source": [
    "### Requirement FR3 - Develop a function to calculate the Kendall Tau Correlation Coefficient for two lists of data"
   ]
  },
  {
   "cell_type": "code",
   "execution_count": null,
   "metadata": {
    "deletable": false
   },
   "outputs": [],
   "source": [
    "# replace with your code"
   ]
  },
  {
   "cell_type": "markdown",
   "metadata": {
    "deletable": false
   },
   "source": [
    "### Requirement FR4 - Develop a function to generate a set of Kendall Tau Correlation Coefficients for a data structure like the one generated in FR2"
   ]
  },
  {
   "cell_type": "code",
   "execution_count": null,
   "metadata": {
    "deletable": false
   },
   "outputs": [],
   "source": [
    "# replace with your code"
   ]
  },
  {
   "cell_type": "markdown",
   "metadata": {
    "deletable": false
   },
   "source": [
    "### Requirement FR5 - Develop a function to print a custom table for selected data from a data structure like the one generated in FR4"
   ]
  },
  {
   "cell_type": "code",
   "execution_count": null,
   "metadata": {
    "deletable": false
   },
   "outputs": [],
   "source": [
    "# replace with your code"
   ]
  }
 ],
 "metadata": {
  "kernelspec": {
   "display_name": "Python 3 (ipykernel)",
   "language": "python",
   "name": "python3"
  },
  "language_info": {
   "codemirror_mode": {
    "name": "ipython",
    "version": 3
   },
   "file_extension": ".py",
   "mimetype": "text/x-python",
   "name": "python",
   "nbconvert_exporter": "python",
   "pygments_lexer": "ipython3",
   "version": "3.11.5"
  }
 },
 "nbformat": 4,
 "nbformat_minor": 4
}
